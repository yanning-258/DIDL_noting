{
 "cells": [
  {
   "cell_type": "markdown",
   "metadata": {},
   "source": [
    "#### Example 1: input a year, determine if it is leap year"
   ]
  },
  {
   "cell_type": "code",
   "execution_count": null,
   "metadata": {},
   "outputs": [],
   "source": []
  },
  {
   "cell_type": "markdown",
   "metadata": {},
   "source": [
    "#### Example 2: Find square with Babylonian method"
   ]
  },
  {
   "cell_type": "code",
   "execution_count": 7,
   "metadata": {},
   "outputs": [
    {
     "name": "stdout",
     "output_type": "stream",
     "text": [
      "Final result is 6.833333333333333 \n"
     ]
    }
   ],
   "source": [
    "import random\n",
    "def calculate(S):\n",
    "    x_0 = random.randint(0, S)\n",
    "    x_1 = (x_0+S/x_0)/2\n",
    "    while True:\n",
    "        if x_1 - x_0 < 1:\n",
    "            break\n",
    "        else:\n",
    "            x_0 = x_1\n",
    "            x_1 = (x_0+S/x_0)/2\n",
    "            print(f\"x_0 = {x_0}, x_1 = {x_1}\")\n",
    "            \n",
    "    return x_1\n",
    "            \n",
    "\n",
    "def main():\n",
    "    S_input = int(input(\"Please input an integer: \"))\n",
    "    root_S = calculate(S_input)\n",
    "    print(f\"Final result is {root_S} \")\n",
    "\n",
    "main()\n"
   ]
  },
  {
   "cell_type": "markdown",
   "metadata": {},
   "source": [
    "#### Example 3: Input 4 digit integer, multiply its sqaure looping over until 1 is met"
   ]
  },
  {
   "cell_type": "code",
   "execution_count": null,
   "metadata": {},
   "outputs": [],
   "source": []
  },
  {
   "cell_type": "markdown",
   "metadata": {},
   "source": [
    "#### Example 4: a 3x3 matrix, if the product of integers of its two main diagonal lines differ by at most 50, it is stable"
   ]
  },
  {
   "cell_type": "code",
   "execution_count": null,
   "metadata": {},
   "outputs": [],
   "source": []
  },
  {
   "cell_type": "markdown",
   "metadata": {},
   "source": [
    "#### Others"
   ]
  },
  {
   "cell_type": "markdown",
   "metadata": {},
   "source": []
  }
 ],
 "metadata": {
  "kernelspec": {
   "display_name": "pytorchvenv",
   "language": "python",
   "name": "python3"
  },
  "language_info": {
   "codemirror_mode": {
    "name": "ipython",
    "version": 3
   },
   "file_extension": ".py",
   "mimetype": "text/x-python",
   "name": "python",
   "nbconvert_exporter": "python",
   "pygments_lexer": "ipython3",
   "version": "3.11.0"
  }
 },
 "nbformat": 4,
 "nbformat_minor": 2
}
